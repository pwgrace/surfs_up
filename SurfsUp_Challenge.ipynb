{
 "cells": [
  {
   "cell_type": "code",
   "execution_count": 3,
   "metadata": {},
   "outputs": [],
   "source": [
    "# Dependencies\n",
    "import numpy as np\n",
    "\n",
    "# Python SQL toolkit and Object Relational Mapper\n",
    "import sqlalchemy\n",
    "from sqlalchemy.ext.automap import automap_base\n",
    "from sqlalchemy.orm import Session\n",
    "from sqlalchemy import create_engine, func\n",
    "import pandas as pd"
   ]
  },
  {
   "cell_type": "code",
   "execution_count": 4,
   "metadata": {},
   "outputs": [],
   "source": [
    "engine = create_engine(\"sqlite:///hawaii.sqlite\")\n",
    "\n",
    "# reflect an existing database into a new model\n",
    "Base = automap_base()\n",
    "# reflect the tables\n",
    "Base.prepare(engine, reflect=True)\n",
    "\n",
    "# Save references to each table\n",
    "Measurement = Base.classes.measurement\n",
    "Station = Base.classes.station"
   ]
  },
  {
   "cell_type": "code",
   "execution_count": 5,
   "metadata": {},
   "outputs": [],
   "source": [
    "# Create our session (link) from Python to the DB\n",
    "session = Session(engine)"
   ]
  },
  {
   "cell_type": "markdown",
   "metadata": {},
   "source": [
    "## D1: Determine the Summary Statistics for June"
   ]
  },
  {
   "cell_type": "code",
   "execution_count": 59,
   "metadata": {},
   "outputs": [],
   "source": [
    "# 1. Import the sqlalchemy extract function.\n",
    "from sqlalchemy import extract\n",
    "import datetime as dt\n",
    "from datetime import timedelta\n",
    "\n",
    "# 2. Write a query that filters the Measurement table to retrieve the temperatures for the month of June. \n",
    "results_1 =session.query(Measurement.date, Measurement.tobs).\\\n",
    "    filter(Measurement.date.between('2010-06-01', '2010-06-30')).all()\n",
    "results_2 =session.query(Measurement.date, Measurement.tobs).\\\n",
    "    filter(Measurement.date.between('2011-06-01', '2011-06-30')).all()\n",
    "results_3 =session.query(Measurement.date, Measurement.tobs).\\\n",
    "    filter(Measurement.date.between('2012-06-01', '2012-06-30')).all()\n",
    "results_4 =session.query(Measurement.date, Measurement.tobs).\\\n",
    "    filter(Measurement.date.between('2013-06-01', '2013-06-30')).all()\n",
    "results_5 =session.query(Measurement.date, Measurement.tobs).\\\n",
    "    filter(Measurement.date.between('2014-06-01', '2014-06-30')).all()\n",
    "results_6 =session.query(Measurement.date, Measurement.tobs).\\\n",
    "    filter(Measurement.date.between('2015-06-01', '2015-06-30')).all()\n",
    "results_7 =session.query(Measurement.date, Measurement.tobs).\\\n",
    "    filter(Measurement.date.between('2016-06-01', '2016-06-30')).all()\n",
    "results_8 =session.query(Measurement.date, Measurement.tobs).\\\n",
    "    filter(Measurement.date.between('2017-06-01', '2017-06-30')).all()"
   ]
  },
  {
   "cell_type": "code",
   "execution_count": 60,
   "metadata": {},
   "outputs": [],
   "source": [
    "#  3. Convert the June temperatures to a list.\n",
    "june_temp=list(results_1)\n",
    "june_temp.extend(results_2)\n",
    "june_temp.extend(results_3)\n",
    "june_temp.extend(results_4)\n",
    "june_temp.extend(results_5)\n",
    "june_temp.extend(results_6)\n",
    "june_temp.extend(results_7)\n",
    "june_temp.extend(results_8)"
   ]
  },
  {
   "cell_type": "code",
   "execution_count": 99,
   "metadata": {},
   "outputs": [],
   "source": [
    "# 4. Create a DataFrame from the list of temperatures for the month of June. \n",
    "df = pd.DataFrame(june_temp, columns=['date','june temperature'])\n",
    "df.set_index(df['date'], drop=True, inplace=True)"
   ]
  },
  {
   "cell_type": "code",
   "execution_count": 100,
   "metadata": {},
   "outputs": [
    {
     "data": {
      "text/html": [
       "<div>\n",
       "<style scoped>\n",
       "    .dataframe tbody tr th:only-of-type {\n",
       "        vertical-align: middle;\n",
       "    }\n",
       "\n",
       "    .dataframe tbody tr th {\n",
       "        vertical-align: top;\n",
       "    }\n",
       "\n",
       "    .dataframe thead th {\n",
       "        text-align: right;\n",
       "    }\n",
       "</style>\n",
       "<table border=\"1\" class=\"dataframe\">\n",
       "  <thead>\n",
       "    <tr style=\"text-align: right;\">\n",
       "      <th></th>\n",
       "      <th>june temperature</th>\n",
       "    </tr>\n",
       "  </thead>\n",
       "  <tbody>\n",
       "    <tr>\n",
       "      <th>count</th>\n",
       "      <td>1700.000000</td>\n",
       "    </tr>\n",
       "    <tr>\n",
       "      <th>mean</th>\n",
       "      <td>74.944118</td>\n",
       "    </tr>\n",
       "    <tr>\n",
       "      <th>std</th>\n",
       "      <td>3.257417</td>\n",
       "    </tr>\n",
       "    <tr>\n",
       "      <th>min</th>\n",
       "      <td>64.000000</td>\n",
       "    </tr>\n",
       "    <tr>\n",
       "      <th>25%</th>\n",
       "      <td>73.000000</td>\n",
       "    </tr>\n",
       "    <tr>\n",
       "      <th>50%</th>\n",
       "      <td>75.000000</td>\n",
       "    </tr>\n",
       "    <tr>\n",
       "      <th>75%</th>\n",
       "      <td>77.000000</td>\n",
       "    </tr>\n",
       "    <tr>\n",
       "      <th>max</th>\n",
       "      <td>85.000000</td>\n",
       "    </tr>\n",
       "  </tbody>\n",
       "</table>\n",
       "</div>"
      ],
      "text/plain": [
       "       june temperature\n",
       "count       1700.000000\n",
       "mean          74.944118\n",
       "std            3.257417\n",
       "min           64.000000\n",
       "25%           73.000000\n",
       "50%           75.000000\n",
       "75%           77.000000\n",
       "max           85.000000"
      ]
     },
     "execution_count": 100,
     "metadata": {},
     "output_type": "execute_result"
    }
   ],
   "source": [
    "# 5. Calculate and print out the summary statistics for the June temperature DataFrame.\n",
    "df = df.sort_index()\n",
    "df.describe()"
   ]
  },
  {
   "cell_type": "markdown",
   "metadata": {},
   "source": [
    "## D2: Determine the Summary Statistics for December"
   ]
  },
  {
   "cell_type": "code",
   "execution_count": 101,
   "metadata": {},
   "outputs": [],
   "source": [
    "# 6. Write a query that filters the Measurement table to retrieve the temperatures for the month of December.\n",
    "results_1 =session.query(Measurement.date, Measurement.tobs).\\\n",
    "    filter(Measurement.date.between('2010-12-01', '2010-12-31')).all()\n",
    "results_2 =session.query(Measurement.date, Measurement.tobs).\\\n",
    "    filter(Measurement.date.between('2011-12-01', '2011-12-31')).all()\n",
    "results_3 =session.query(Measurement.date, Measurement.tobs).\\\n",
    "    filter(Measurement.date.between('2012-12-01', '2012-12-31')).all()\n",
    "results_4 =session.query(Measurement.date, Measurement.tobs).\\\n",
    "    filter(Measurement.date.between('2013-12-01', '2013-12-31')).all()\n",
    "results_5 =session.query(Measurement.date, Measurement.tobs).\\\n",
    "    filter(Measurement.date.between('2014-12-01', '2014-12-31')).all()\n",
    "results_6 =session.query(Measurement.date, Measurement.tobs).\\\n",
    "    filter(Measurement.date.between('2015-12-01', '2015-12-31')).all()\n",
    "results_7 =session.query(Measurement.date, Measurement.tobs).\\\n",
    "    filter(Measurement.date.between('2016-12-01', '2016-12-31')).all()\n",
    "results_8 =session.query(Measurement.date, Measurement.tobs).\\\n",
    "    filter(Measurement.date.between('2017-12-01', '2017-12-31')).all()"
   ]
  },
  {
   "cell_type": "code",
   "execution_count": 102,
   "metadata": {},
   "outputs": [],
   "source": [
    "# 7. Convert the December temperatures to a list.\n",
    "dec_temp=list(results_1)\n",
    "dec_temp.extend(results_2)\n",
    "dec_temp.extend(results_3)\n",
    "dec_temp.extend(results_4)\n",
    "dec_temp.extend(results_5)\n",
    "dec_temp.extend(results_6)\n",
    "dec_temp.extend(results_7)\n",
    "dec_temp.extend(results_8)\n",
    "dec_temp.extend(results_9)"
   ]
  },
  {
   "cell_type": "code",
   "execution_count": 103,
   "metadata": {},
   "outputs": [],
   "source": [
    "# 8. Create a DataFrame from the list of temperatures for the month of December. \n",
    "df_dec = pd.DataFrame(dec_temp, columns=['date','dec temperature'])\n",
    "df_dec.set_index(df_dec['date'], drop=True, inplace=True)"
   ]
  },
  {
   "cell_type": "code",
   "execution_count": 104,
   "metadata": {},
   "outputs": [
    {
     "data": {
      "text/html": [
       "<div>\n",
       "<style scoped>\n",
       "    .dataframe tbody tr th:only-of-type {\n",
       "        vertical-align: middle;\n",
       "    }\n",
       "\n",
       "    .dataframe tbody tr th {\n",
       "        vertical-align: top;\n",
       "    }\n",
       "\n",
       "    .dataframe thead th {\n",
       "        text-align: right;\n",
       "    }\n",
       "</style>\n",
       "<table border=\"1\" class=\"dataframe\">\n",
       "  <thead>\n",
       "    <tr style=\"text-align: right;\">\n",
       "      <th></th>\n",
       "      <th>dec temperature</th>\n",
       "    </tr>\n",
       "  </thead>\n",
       "  <tbody>\n",
       "    <tr>\n",
       "      <th>count</th>\n",
       "      <td>1517.000000</td>\n",
       "    </tr>\n",
       "    <tr>\n",
       "      <th>mean</th>\n",
       "      <td>71.041529</td>\n",
       "    </tr>\n",
       "    <tr>\n",
       "      <th>std</th>\n",
       "      <td>3.745920</td>\n",
       "    </tr>\n",
       "    <tr>\n",
       "      <th>min</th>\n",
       "      <td>56.000000</td>\n",
       "    </tr>\n",
       "    <tr>\n",
       "      <th>25%</th>\n",
       "      <td>69.000000</td>\n",
       "    </tr>\n",
       "    <tr>\n",
       "      <th>50%</th>\n",
       "      <td>71.000000</td>\n",
       "    </tr>\n",
       "    <tr>\n",
       "      <th>75%</th>\n",
       "      <td>74.000000</td>\n",
       "    </tr>\n",
       "    <tr>\n",
       "      <th>max</th>\n",
       "      <td>83.000000</td>\n",
       "    </tr>\n",
       "  </tbody>\n",
       "</table>\n",
       "</div>"
      ],
      "text/plain": [
       "       dec temperature\n",
       "count      1517.000000\n",
       "mean         71.041529\n",
       "std           3.745920\n",
       "min          56.000000\n",
       "25%          69.000000\n",
       "50%          71.000000\n",
       "75%          74.000000\n",
       "max          83.000000"
      ]
     },
     "execution_count": 104,
     "metadata": {},
     "output_type": "execute_result"
    }
   ],
   "source": [
    "# 9. Calculate and print out the summary statistics for the Decemeber temperature DataFrame.\n",
    "df_dec = df_dec.sort_index()\n",
    "df_dec.describe()"
   ]
  },
  {
   "cell_type": "code",
   "execution_count": null,
   "metadata": {},
   "outputs": [],
   "source": []
  }
 ],
 "metadata": {
  "kernelspec": {
   "display_name": "PythonData",
   "language": "python",
   "name": "pythondata"
  },
  "language_info": {
   "codemirror_mode": {
    "name": "ipython",
    "version": 3
   },
   "file_extension": ".py",
   "mimetype": "text/x-python",
   "name": "python",
   "nbconvert_exporter": "python",
   "pygments_lexer": "ipython3",
   "version": "3.7.7"
  }
 },
 "nbformat": 4,
 "nbformat_minor": 2
}
